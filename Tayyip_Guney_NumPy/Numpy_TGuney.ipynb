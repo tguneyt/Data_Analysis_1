{
 "cells": [
  {
   "cell_type": "code",
   "execution_count": 171,
   "metadata": {},
   "outputs": [],
   "source": [
    "# Tayyip GÜNEY 05.06.2022\n",
    "# NumPy Exercises\n",
    "\n",
    "import numpy as np"
   ]
  },
  {
   "cell_type": "code",
   "execution_count": 172,
   "metadata": {},
   "outputs": [],
   "source": [
    "# 1) Numpy’da Vektor ve Matrisin farkini tek cumle ile ifade ediniz.\n",
    "\n",
    "# Vektorler tek boyutlu, matrisler cok boyutlu listelerdir."
   ]
  },
  {
   "cell_type": "code",
   "execution_count": 173,
   "metadata": {},
   "outputs": [
    {
     "data": {
      "text/plain": [
       "array([ 1,  2,  3,  4,  5,  6,  7,  8,  9, 10])"
      ]
     },
     "execution_count": 173,
     "metadata": {},
     "output_type": "execute_result"
    }
   ],
   "source": [
    "# 2) 10 elemanli bir listeden NumPy Array’i olusturunuz.\n",
    "\n",
    "a1 = [1,2,3,4,5,6,7,8,9,10]\n",
    "\n",
    "a2 = np.array(a1)\n",
    "a2"
   ]
  },
  {
   "cell_type": "code",
   "execution_count": 174,
   "metadata": {},
   "outputs": [
    {
     "data": {
      "text/plain": [
       "array([[0, 0, 0, 0, 0, 0, 0, 0, 0, 0],\n",
       "       [0, 0, 0, 0, 0, 0, 0, 0, 0, 0],\n",
       "       [0, 0, 0, 0, 0, 0, 0, 0, 0, 0],\n",
       "       [0, 0, 0, 0, 0, 0, 0, 0, 0, 0],\n",
       "       [0, 0, 0, 0, 0, 0, 0, 0, 0, 0],\n",
       "       [0, 0, 0, 0, 0, 0, 0, 0, 0, 0],\n",
       "       [0, 0, 0, 0, 0, 0, 0, 0, 0, 0],\n",
       "       [0, 0, 0, 0, 0, 0, 0, 0, 0, 0],\n",
       "       [0, 0, 0, 0, 0, 0, 0, 0, 0, 0],\n",
       "       [0, 0, 0, 0, 0, 0, 0, 0, 0, 0]])"
      ]
     },
     "execution_count": 174,
     "metadata": {},
     "output_type": "execute_result"
    }
   ],
   "source": [
    "# 3) Icerisinde ‘0’ lar olan, ve veri tipi integer olan 10X10’luk bir matris olusturunuz.\n",
    "\n",
    "zero = np.zeros((10,10),dtype=\"int\")\n",
    "zero"
   ]
  },
  {
   "cell_type": "code",
   "execution_count": 175,
   "metadata": {},
   "outputs": [
    {
     "data": {
      "text/plain": [
       "array([[1., 1., 1., 1., 1., 1., 1., 1., 1., 1.],\n",
       "       [1., 1., 1., 1., 1., 1., 1., 1., 1., 1.],\n",
       "       [1., 1., 1., 1., 1., 1., 1., 1., 1., 1.],\n",
       "       [1., 1., 1., 1., 1., 1., 1., 1., 1., 1.],\n",
       "       [1., 1., 1., 1., 1., 1., 1., 1., 1., 1.],\n",
       "       [1., 1., 1., 1., 1., 1., 1., 1., 1., 1.],\n",
       "       [1., 1., 1., 1., 1., 1., 1., 1., 1., 1.],\n",
       "       [1., 1., 1., 1., 1., 1., 1., 1., 1., 1.],\n",
       "       [1., 1., 1., 1., 1., 1., 1., 1., 1., 1.],\n",
       "       [1., 1., 1., 1., 1., 1., 1., 1., 1., 1.]])"
      ]
     },
     "execution_count": 175,
     "metadata": {},
     "output_type": "execute_result"
    }
   ],
   "source": [
    "# 4) Icerisinde ‘1’ ler olan, veri tipi float olan 10X10’luk bir matris olusturunuz.\n",
    "one = np.ones((10,10),dtype=\"float\")\n",
    "one"
   ]
  },
  {
   "cell_type": "code",
   "execution_count": 176,
   "metadata": {},
   "outputs": [
    {
     "data": {
      "text/plain": [
       "array([[9, 9, 9, 9, 9, 9, 9, 9, 9, 9],\n",
       "       [9, 9, 9, 9, 9, 9, 9, 9, 9, 9],\n",
       "       [9, 9, 9, 9, 9, 9, 9, 9, 9, 9],\n",
       "       [9, 9, 9, 9, 9, 9, 9, 9, 9, 9],\n",
       "       [9, 9, 9, 9, 9, 9, 9, 9, 9, 9],\n",
       "       [9, 9, 9, 9, 9, 9, 9, 9, 9, 9],\n",
       "       [9, 9, 9, 9, 9, 9, 9, 9, 9, 9],\n",
       "       [9, 9, 9, 9, 9, 9, 9, 9, 9, 9],\n",
       "       [9, 9, 9, 9, 9, 9, 9, 9, 9, 9],\n",
       "       [9, 9, 9, 9, 9, 9, 9, 9, 9, 9]])"
      ]
     },
     "execution_count": 176,
     "metadata": {},
     "output_type": "execute_result"
    }
   ],
   "source": [
    "# 5) Icerisinde ‘9’ lar olan, veri tipi integer olan 10X10’luk bir matris olusturunuz.\n",
    "\n",
    "nine = np.full((10,10),9,dtype=\"int\")\n",
    "nine"
   ]
  },
  {
   "cell_type": "code",
   "execution_count": 177,
   "metadata": {},
   "outputs": [
    {
     "data": {
      "text/plain": [
       "array([ 5,  8, 11, 14, 17, 20, 23])"
      ]
     },
     "execution_count": 177,
     "metadata": {},
     "output_type": "execute_result"
    }
   ],
   "source": [
    "# 6) 5 ile 25 arasinda, 3’er 3’er atlayan tek boyutlu bir Array olusturunuz.\n",
    "\n",
    "q6 = np.arange(5,25,3)\n",
    "q6"
   ]
  },
  {
   "cell_type": "code",
   "execution_count": 178,
   "metadata": {},
   "outputs": [
    {
     "data": {
      "text/plain": [
       "array([-1.        , -0.93103448, -0.86206897, -0.79310345, -0.72413793,\n",
       "       -0.65517241, -0.5862069 , -0.51724138, -0.44827586, -0.37931034,\n",
       "       -0.31034483, -0.24137931, -0.17241379, -0.10344828, -0.03448276,\n",
       "        0.03448276,  0.10344828,  0.17241379,  0.24137931,  0.31034483,\n",
       "        0.37931034,  0.44827586,  0.51724138,  0.5862069 ,  0.65517241,\n",
       "        0.72413793,  0.79310345,  0.86206897,  0.93103448,  1.        ])"
      ]
     },
     "execution_count": 178,
     "metadata": {},
     "output_type": "execute_result"
    }
   ],
   "source": [
    "# 7) -1 ile 1 arasinda 30 adet Array olusturunuz.\n",
    "\n",
    "q7 = np.linspace(-1,1,30)\n",
    "q7"
   ]
  },
  {
   "cell_type": "code",
   "execution_count": 179,
   "metadata": {},
   "outputs": [
    {
     "data": {
      "text/plain": [
       "array([[10, 19, 19, 24,  3, 13],\n",
       "       [ 3,  1,  6,  7,  3, 28],\n",
       "       [ 8,  3, 24,  6, 22, 13],\n",
       "       [22,  8,  4,  2,  1, 18],\n",
       "       [17, 14, 22, 14,  9, 18]])"
      ]
     },
     "execution_count": 179,
     "metadata": {},
     "output_type": "execute_result"
    }
   ],
   "source": [
    "# 8) 0 ile 30 arasinda 5x6’lik bir matris olusturun.\n",
    "\n",
    "q8 = np.random.randint(0,30,(5,6))\n",
    "q8"
   ]
  },
  {
   "cell_type": "code",
   "execution_count": 180,
   "metadata": {},
   "outputs": [
    {
     "data": {
      "text/plain": [
       "array([[1., 0., 0., 0., 0., 0., 0., 0., 0., 0.],\n",
       "       [0., 1., 0., 0., 0., 0., 0., 0., 0., 0.],\n",
       "       [0., 0., 1., 0., 0., 0., 0., 0., 0., 0.],\n",
       "       [0., 0., 0., 1., 0., 0., 0., 0., 0., 0.],\n",
       "       [0., 0., 0., 0., 1., 0., 0., 0., 0., 0.],\n",
       "       [0., 0., 0., 0., 0., 1., 0., 0., 0., 0.],\n",
       "       [0., 0., 0., 0., 0., 0., 1., 0., 0., 0.],\n",
       "       [0., 0., 0., 0., 0., 0., 0., 1., 0., 0.],\n",
       "       [0., 0., 0., 0., 0., 0., 0., 0., 1., 0.],\n",
       "       [0., 0., 0., 0., 0., 0., 0., 0., 0., 1.]])"
      ]
     },
     "execution_count": 180,
     "metadata": {},
     "output_type": "execute_result"
    }
   ],
   "source": [
    "# 9) Kosegenleri 1 olan 10x10’luk bir matris olusturunuz.\n",
    "\n",
    "q9 = np.eye(10,10)\n",
    "q9"
   ]
  },
  {
   "cell_type": "code",
   "execution_count": 181,
   "metadata": {},
   "outputs": [
    {
     "name": "stdout",
     "output_type": "stream",
     "text": [
      "Matris :  [[3 2 6 9 4 5 1 7 9 7]\n",
      " [8 0 1 9 9 0 9 0 9 8]\n",
      " [6 2 0 8 1 4 8 9 6 7]\n",
      " [6 7 8 6 4 0 3 1 7 5]\n",
      " [1 7 9 7 8 2 3 0 4 6]]\n",
      "eleman sayisi         :  50\n",
      "boyut bilgisi         :  2\n",
      "satir X sutun bilgisi :  (5, 10)\n",
      "veri tipi             :  int32\n"
     ]
    }
   ],
   "source": [
    "# 10) 0 ile 10 arasinda 5x10’lik bir matris olusturun. (integer) ve bu matrisin; \n",
    "# • eleman sayisini • boyut bilgisini/sayisini • satir X sutun bilgisini • veri tipini numpy metodlariyla yazdiriniz.\n",
    "\n",
    "q10 = np.random.randint(0,10,(5,10))\n",
    "print(\"Matris : \",q10)\n",
    "print(\"eleman sayisi         : \",q10.size)\n",
    "print(\"boyut bilgisi         : \",q10.ndim)\n",
    "print(\"satir X sutun bilgisi : \",q10.shape)\n",
    "print(\"veri tipi             : \",q10.dtype)\n"
   ]
  },
  {
   "cell_type": "code",
   "execution_count": 182,
   "metadata": {},
   "outputs": [
    {
     "data": {
      "text/plain": [
       "array([[[3, 3, 6, 0, 1, 4, 8],\n",
       "        [1, 5, 9, 9, 3, 9, 3],\n",
       "        [1, 6, 9, 8, 9, 3, 1],\n",
       "        [7, 7, 0, 8, 9, 4, 9]],\n",
       "\n",
       "       [[1, 4, 9, 4, 7, 4, 9],\n",
       "        [4, 5, 8, 6, 1, 7, 3],\n",
       "        [6, 0, 0, 9, 7, 2, 5],\n",
       "        [3, 9, 9, 1, 3, 3, 2]],\n",
       "\n",
       "       [[8, 5, 7, 4, 1, 8, 2],\n",
       "        [1, 5, 9, 5, 2, 0, 6],\n",
       "        [1, 7, 7, 8, 6, 3, 2],\n",
       "        [5, 2, 3, 3, 9, 9, 4]]])"
      ]
     },
     "execution_count": 182,
     "metadata": {},
     "output_type": "execute_result"
    }
   ],
   "source": [
    "# 11) 0 ile 10 arasindaki degerlerden olusan 3 adet 4x7’lik bir matris olusturunuz. (3 boyutlu bir matris olusturulacak)\n",
    "\n",
    "q11 = np.random.randint(0,10,(3,4,7))\n",
    "q11"
   ]
  },
  {
   "cell_type": "code",
   "execution_count": 183,
   "metadata": {},
   "outputs": [
    {
     "name": "stdout",
     "output_type": "stream",
     "text": [
      "vektor :  [1 2 3 4 5 6]\n",
      "matris :  [[1 2]\n",
      " [3 4]\n",
      " [5 6]]\n"
     ]
    }
   ],
   "source": [
    "# 12) Bir vektor olusturunuz ve daha sonrasinda ayni vektoru bir matrise ceviriniz. (boyut sayisini degistirin.)\n",
    "\n",
    "q12 = np.arange(1,7)\n",
    "print(\"vektor : \",q12)\n",
    "q12_ = q12.reshape((3,2))\n",
    "print(\"matris : \",q12_)"
   ]
  },
  {
   "cell_type": "code",
   "execution_count": 184,
   "metadata": {},
   "outputs": [
    {
     "data": {
      "text/plain": [
       "array([ 1,  2,  3,  4,  5, 11, 12, 13, 14, 15, 16, 17, 18, 19, 20,  6,  7,\n",
       "        8,  9, 10])"
      ]
     },
     "execution_count": 184,
     "metadata": {},
     "output_type": "execute_result"
    }
   ],
   "source": [
    "# 13) 4 tane ayri tek boyutlu array’i birlestirerek bir array olusturunuz.\n",
    "\n",
    "a13 = np.arange(1,6)\n",
    "b13 = np.arange(6,11)\n",
    "c13 = np.arange(11,16)\n",
    "d13 = np.arange(16,21)\n",
    "\n",
    "np.concatenate([a13,c13,d13,b13])"
   ]
  },
  {
   "cell_type": "code",
   "execution_count": 185,
   "metadata": {},
   "outputs": [
    {
     "name": "stdout",
     "output_type": "stream",
     "text": [
      "vektor   :  [[9 5]\n",
      " [8 7]\n",
      " [1 4]\n",
      " [1 7]\n",
      " [5 4]]\n",
      "\n",
      "matris   :  [[23 24]\n",
      " [25 24]\n",
      " [21 25]\n",
      " [23 23]\n",
      " [25 22]]\n",
      "\n",
      "Birlesim :  [[ 9  5 23 24]\n",
      " [ 8  7 25 24]\n",
      " [ 1  4 21 25]\n",
      " [ 1  7 23 23]\n",
      " [ 5  4 25 22]]\n"
     ]
    }
   ],
   "source": [
    "# 14) 2 boyutlu bir vektor ve bir matris olusturun(ayri ayri), bu iki arrayi numpy metodlarini kullanarak sutun bazli birlestiriniz,\n",
    "\n",
    "a14 = np.random.randint(0,10,(5,2))\n",
    "\n",
    "b14 = np.random.randint(21,26,(5,2))\n",
    "\n",
    "c14 = np.concatenate((a14,b14),axis=1)\n",
    "\n",
    "\n",
    "print(\"vektor   : \",a14)\n",
    "print(\"\\nmatris   : \",b14)\n",
    "print(\"\\nBirlesim : \",c14)"
   ]
  },
  {
   "cell_type": "code",
   "execution_count": 186,
   "metadata": {},
   "outputs": [],
   "source": [
    "# 15) Numpy’da “axis=1” ve “axis=0” arasinda ne fark vardir. Teorik olarak yaziniz?\n",
    "\n",
    "# axis = 0 satırlar icin (y eksenini) \n",
    "# axis = 1 sütunlar için (x eksenini)"
   ]
  },
  {
   "cell_type": "code",
   "execution_count": 187,
   "metadata": {},
   "outputs": [
    {
     "name": "stdout",
     "output_type": "stream",
     "text": [
      "vektor   :  [[4 1]\n",
      " [4 4]\n",
      " [3 8]\n",
      " [4 5]\n",
      " [3 9]]\n",
      "\n",
      "matris   :  [[25 21]\n",
      " [23 25]\n",
      " [24 24]\n",
      " [25 21]\n",
      " [25 21]]\n",
      "\n",
      "Birlesim(Sutun) :  [[ 9  5 23 24]\n",
      " [ 8  7 25 24]\n",
      " [ 1  4 21 25]\n",
      " [ 1  7 23 23]\n",
      " [ 5  4 25 22]]\n",
      "\n",
      "Birlesim(Satir) :  [[ 9  5]\n",
      " [ 8  7]\n",
      " [ 1  4]\n",
      " [ 1  7]\n",
      " [ 5  4]\n",
      " [23 24]\n",
      " [25 24]\n",
      " [21 25]\n",
      " [23 23]\n",
      " [25 22]]\n"
     ]
    }
   ],
   "source": [
    "# 16) Farkli boyutlardaki arraylari satin ve sutun bazli ayri ayri birlestiriniz.\n",
    "\n",
    "a15 = np.random.randint(0,10,(5,2))\n",
    "\n",
    "b15 = np.random.randint(21,26,(5,2))\n",
    "\n",
    "c15 = np.concatenate((a14,b14),axis=1)\n",
    "d15 = np.concatenate((a14,b14),axis=0)\n",
    "\n",
    "\n",
    "print(\"vektor   : \",a15)\n",
    "print(\"\\nmatris   : \",b15)\n",
    "print(\"\\nBirlesim(Sutun) : \",c15)\n",
    "print(\"\\nBirlesim(Satir) : \",d15)\n"
   ]
  },
  {
   "cell_type": "code",
   "execution_count": 188,
   "metadata": {},
   "outputs": [
    {
     "name": "stdout",
     "output_type": "stream",
     "text": [
      "[0 1]\n",
      "[2 3]\n",
      "[4 5]\n",
      "[6 7]\n",
      "[8 9]\n"
     ]
    }
   ],
   "source": [
    "# 17) 10 elemanli bi liste olusturunuz ve bu listeyi Numpy metodlariyla bolerek(split) 5 ayri array olusturunuz.\n",
    "\n",
    "a17 = np.arange(10)\n",
    "c,v,b,n,m = np.split(a17,5)\n",
    "print(c)\n",
    "print(v)\n",
    "print(b)\n",
    "print(n)\n",
    "print(m)\n",
    "\n"
   ]
  },
  {
   "cell_type": "code",
   "execution_count": 189,
   "metadata": {},
   "outputs": [
    {
     "name": "stdout",
     "output_type": "stream",
     "text": [
      "Array  :  [9 3 1 6 2 4 1 7 2 1]\n",
      "Sorted :  [1 1 1 2 2 3 4 6 7 9]\n",
      "index 0 = 1\n",
      "index 1 = 1\n",
      "index 2 = 1\n",
      "index 3 = 2\n",
      "index 4 = 2\n",
      "index 5 = 3\n",
      "index 6 = 4\n",
      "index 7 = 6\n",
      "index 8 = 7\n",
      "index 9 = 9\n"
     ]
    }
   ],
   "source": [
    "# 18) Random bir array olusturunuz ve bu arrayi buyukten kucuge dogru siralayiniz.\n",
    "# Ve bu siralamadan sonra hangi elemanin hangi indexte oldugunu gosteren bir metod uygulayiniz.\n",
    "\n",
    "a18 = np.random.randint(1,11,10)\n",
    "print(\"Array  : \", a18)\n",
    "a18.sort()\n",
    "# print(\"Sorted : \", sorted(a18))\n",
    "print(\"Sorted : \", a18)\n",
    "\n",
    "for i,v in enumerate(a18):\n",
    "    print(f\"index {i} = {v}\")\n"
   ]
  },
  {
   "cell_type": "code",
   "execution_count": 190,
   "metadata": {},
   "outputs": [
    {
     "name": "stdout",
     "output_type": "stream",
     "text": [
      "[11 11 19  8  1 17  5 11 14  9 12 17 17 10  4  2  8 10 18  6]\n",
      "**************************************************\n",
      "[19  1  5]\n"
     ]
    }
   ],
   "source": [
    "# 19) 20 elemanli random bir vektor olusturunuz. Bu vektorun 3. 5. ve 7. elemanlarina ulasin.\n",
    "\n",
    "a19 = np.random.randint(1,21,20)\n",
    "index = [2,4,6]\n",
    "print(a19)\n",
    "print(50*\"*\")\n",
    "print(a19[index])\n"
   ]
  },
  {
   "cell_type": "code",
   "execution_count": 191,
   "metadata": {},
   "outputs": [
    {
     "name": "stdout",
     "output_type": "stream",
     "text": [
      "[29 73 70 41 45 26 45 49 97 85]\n",
      "[  29   73   70 4408   45   26   45   49   97   85]\n"
     ]
    }
   ],
   "source": [
    "# 20) 10 elemanli random bir vektor olusturunuz ve bu arrayin 4. elemanini farkli bir sayiyla degistiriniz.\n",
    "\n",
    "a20 = np.random.randint(10,99,10)\n",
    "print(a20)\n",
    "a20[3]=4408\n",
    "print(a20)"
   ]
  },
  {
   "cell_type": "code",
   "execution_count": 192,
   "metadata": {},
   "outputs": [],
   "source": [
    "# 21) “Diagonal Matrix” ve “Trace of Matrix” kavramlari hakkinda kucuk bir arastirma yapip bunlarin ne oldugunu belirten kucuk bir aciklama yaziniz.\n",
    "\n",
    "# Diagonal Matrix : Bir matriste köşegen dışı tüm girişlerin sıfır olduğu bir matristir.\n",
    "\n",
    "# Trace of Matrix : Bir kare matrisin izi, köşegen girişlerinin toplamıdır."
   ]
  },
  {
   "cell_type": "code",
   "execution_count": 193,
   "metadata": {},
   "outputs": [
    {
     "name": "stdout",
     "output_type": "stream",
     "text": [
      "[[3 0 0 0 0]\n",
      " [0 3 0 0 0]\n",
      " [0 0 2 0 0]\n",
      " [0 0 0 9 0]\n",
      " [0 0 0 0 3]]\n",
      "a_diag[0,0] : 3\n",
      "a_diag[1,1] : 3\n",
      "a_diag[2,2] : 2\n",
      "a_diag[3,3] : 9\n",
      "a_diag[4,4] : 3\n"
     ]
    }
   ],
   "source": [
    "# 22) 5x5’lik Diagonal bir matris olusturunuz ve Diagonaline denk gelen indexlere ulasiniz.(ayri ayri)\n",
    "\n",
    "a_diag = np.diag(np.random.randint(1,10,5))\n",
    "print(a_diag)\n",
    "\n",
    "for i in range(len(a_diag)):\n",
    "    print(f\"a_diag[{i},{i}] : {a_diag[i,i]}\")"
   ]
  },
  {
   "cell_type": "code",
   "execution_count": 194,
   "metadata": {},
   "outputs": [
    {
     "name": "stdout",
     "output_type": "stream",
     "text": [
      "[10 11 12 13 14 15 16 17 18 19]\n",
      "**************************************************\n",
      "[13 14 15 16 17 18 19]\n"
     ]
    }
   ],
   "source": [
    "# 23) 10 ile 20 arasinda bir vektor olusturunuz. Ve 3. indexten son indexe kadar olan degerleri yazdiriniz.\n",
    "\n",
    "a23 = np.arange(10,20)\n",
    "print(a23)\n",
    "print(50*\"*\")\n",
    "print(a23[3:])"
   ]
  },
  {
   "cell_type": "code",
   "execution_count": 195,
   "metadata": {},
   "outputs": [
    {
     "name": "stdout",
     "output_type": "stream",
     "text": [
      "Matris : \n",
      " [[28 91 94 19 81 64 42 21 78 70]\n",
      " [32 79 41 73 29 57 48 53 47 45]\n",
      " [18 41 55 39 20 15 63 23 64 61]\n",
      " [46 43 58 15 80 90 18 94 46 15]\n",
      " [43 71 72 66 98 77 12 14 58 42]\n",
      " [14 22 61 28 80 11 90 64 62 88]\n",
      " [91 43 91 58 29 62 77 32 96 54]\n",
      " [57 24 22 42 77 83 20 33 37 19]\n",
      " [82 82 32 77 37 30 10 27 36 39]\n",
      " [13 87 26 67 76 80 34 51 45 69]]\n",
      "**************************************************\n",
      "24a : \n",
      " 20\n",
      "24b : \n",
      " [43 71 72 66 98 77 12 14 58 42]\n",
      "24c : \n",
      " [32 79 41 73 29 57 48 53 47 45]\n",
      "24d : \n",
      " [[32 79 41 73 29 57 48 53 47 45]\n",
      " [18 41 55 39 20 15 63 23 64 61]\n",
      " [46 43 58 15 80 90 18 94 46 15]\n",
      " [43 71 72 66 98 77 12 14 58 42]\n",
      " [14 22 61 28 80 11 90 64 62 88]\n",
      " [91 43 91 58 29 62 77 32 96 54]]\n"
     ]
    }
   ],
   "source": [
    "# 24) 10X10 luk bir matris olusturunuz ve ; \n",
    "\n",
    "# 24a - 3.satir ve 5.sutuna ulasiniz. \n",
    "# 24b - 5.sutunun tum satirlarina ulasiniz. \n",
    "# 24c - Tum sutunlarin 2.satirlarina ulasiniz. \n",
    "# 24d - tum sutunlarin 2 ile 7 arasindaki satirlarina ulasiniz. \n",
    "# 24e - satir indexi 2’den 5’e ve sutun indexi 3 den 7’ye kadar olan degerlere ulasiniz. \n",
    "# 24f - satir indexi 5’den en sona ve sutun indexi en bastan 4’e kadar olan degerlere ulasiniz. \n",
    "# 24g - sutun indexi sadece 3, 6, 9 olan kolonlarin(sutunlarin), tum satirlarina ulasiniz. \n",
    "# 24h - 5.indexli satir ve 5.indexli sutuna denk gelen degeri, dogum yilinizla degistiriniz.\n",
    "\n",
    "# NOT : elemanlara ulasirken; eleman-1 = index olarak alinmistir (2.eleman = 1.index)\n",
    "\n",
    "a24 = np.random.randint(10,99,(10,10))\n",
    "print(\"Matris : \\n\", a24)\n",
    "print(50*\"*\")\n",
    "print(\"24a : \\n\", a24[2,4])           # 24a - 3.satir ve 5.sutuna ulasiniz. \n",
    "print(\"24b : \\n\", a24[4,:])           # 24b - 5.sutunun tum satirlarina ulasiniz. \n",
    "print(\"24c : \\n\", a24[1,:])           # 24c - Tum sutunlarin 2.satirlarina ulasiniz. \n",
    "print(\"24d : \\n\", a24[1:7,:])         # 24d - tum sutunlarin 2 ile 7 arasindaki satirlarina ulasiniz. \n"
   ]
  },
  {
   "cell_type": "code",
   "execution_count": 196,
   "metadata": {},
   "outputs": [
    {
     "name": "stdout",
     "output_type": "stream",
     "text": [
      "Matris : \n",
      " [[28 91 94 19 81 64 42 21 78 70]\n",
      " [32 79 41 73 29 57 48 53 47 45]\n",
      " [18 41 55 39 20 15 63 23 64 61]\n",
      " [46 43 58 15 80 90 18 94 46 15]\n",
      " [43 71 72 66 98 77 12 14 58 42]\n",
      " [14 22 61 28 80 11 90 64 62 88]\n",
      " [91 43 91 58 29 62 77 32 96 54]\n",
      " [57 24 22 42 77 83 20 33 37 19]\n",
      " [82 82 32 77 37 30 10 27 36 39]\n",
      " [13 87 26 67 76 80 34 51 45 69]]\n",
      "**************************************************\n",
      "24e : \n",
      " [[39 20 15 63 23]\n",
      " [15 80 90 18 94]\n",
      " [66 98 77 12 14]\n",
      " [28 80 11 90 64]]\n",
      "24f : \n",
      " [[14 22 61 28 80]\n",
      " [91 43 91 58 29]\n",
      " [57 24 22 42 77]\n",
      " [82 82 32 77 37]\n",
      " [13 87 26 67 76]]\n"
     ]
    }
   ],
   "source": [
    "# 24) devami.................\n",
    "\n",
    "print(\"Matris : \\n\", a24)\n",
    "print(50*\"*\")\n",
    "print(\"24e : \\n\", a24[2:6,3:8])       # 24e - satir indexi 2’den 5’e ve sutun indexi 3 den 7’ye kadar olan degerlere ulasiniz. \n",
    "print(\"24f : \\n\", a24[5:,:5])         # 24f - satir indexi 5’den en sona ve sutun indexi en bastan 4’e kadar olan degerlere ulasiniz.  "
   ]
  },
  {
   "cell_type": "code",
   "execution_count": 197,
   "metadata": {},
   "outputs": [
    {
     "name": "stdout",
     "output_type": "stream",
     "text": [
      "Matris : \n",
      " [[28 91 94 19 81 64 42 21 78 70]\n",
      " [32 79 41 73 29 57 48 53 47 45]\n",
      " [18 41 55 39 20 15 63 23 64 61]\n",
      " [46 43 58 15 80 90 18 94 46 15]\n",
      " [43 71 72 66 98 77 12 14 58 42]\n",
      " [14 22 61 28 80 11 90 64 62 88]\n",
      " [91 43 91 58 29 62 77 32 96 54]\n",
      " [57 24 22 42 77 83 20 33 37 19]\n",
      " [82 82 32 77 37 30 10 27 36 39]\n",
      " [13 87 26 67 76 80 34 51 45 69]]\n",
      "**************************************************\n",
      "24g : \n",
      " [[19 42 70]\n",
      " [73 48 45]\n",
      " [39 63 61]\n",
      " [15 18 15]\n",
      " [66 12 42]\n",
      " [28 90 88]\n",
      " [58 77 54]\n",
      " [42 20 19]\n",
      " [77 10 39]\n",
      " [67 34 69]]\n",
      "24h : \n",
      " 1995\n"
     ]
    }
   ],
   "source": [
    "# 24) devami.................\n",
    "\n",
    "print(\"Matris : \\n\", a24)\n",
    "print(50*\"*\")\n",
    "print(\"24g : \\n\", a24[:,(3,6,9)])         # 24g - sutun indexi sadece 3, 6, 9 olan kolonlarin(sutunlarin), tum satirlarina ulasiniz. \n",
    "a24[5,5]=1995\n",
    "print(\"24h : \\n\", a24[5,5])             # 24h - 5.indexli satir ve 5.indexli sutuna denk gelen degeri, dogum yilinizla degistiriniz.\n"
   ]
  },
  {
   "cell_type": "code",
   "execution_count": 198,
   "metadata": {},
   "outputs": [
    {
     "name": "stdout",
     "output_type": "stream",
     "text": [
      "Array : \n",
      " [ 0  5 10 15 20 25 30 35 40 45 50]\n",
      "25a : \n",
      " 6\n",
      "25b : \n",
      " 6\n",
      "25c : \n",
      " 0\n",
      "25d : \n",
      " [  0  25  50  75 100 125 150 175 200 225 250]\n",
      "25e : \n",
      " [0 1 0 1 0 1 0 1 0 1 0]\n"
     ]
    }
   ],
   "source": [
    "# 25) 0’dan 50’ye kadar 5’er 5’er atlayarak giden bir array olusturunuz(tek boyutlu) ve numpy metodlariyla asagidaki islemleri uygulayin;\n",
    "\n",
    "# 25a - 20 den buyuk olan kac deger var.\n",
    "# 25b - 30’dan kucuk kac deger var \n",
    "# 25c - icerisinde 33 gecen kac deger var\n",
    "# 25d - olusturulan arrayin tum elemanlarini 5 ile carpin.\n",
    "# 25e - olusturulan arrayin tum elemanlarinin 2 ile bolumunden kalanlari yazdiriniz.\n",
    "\n",
    "a25 = np.arange(0,51,5)\n",
    "print(\"Array : \\n\", a25)\n",
    "\n",
    "print(\"25a : \\n\", (a25[a25>20]).size)\n",
    "print(\"25b : \\n\", (a25[a25<30]).size)\n",
    "print(\"25c : \\n\", (a25[a25==33]).size)\n",
    "print(\"25d : \\n\", (a25*5))\n",
    "print(\"25e : \\n\", a25%2)\n",
    "\n"
   ]
  },
  {
   "cell_type": "code",
   "execution_count": 199,
   "metadata": {},
   "outputs": [
    {
     "name": "stdout",
     "output_type": "stream",
     "text": [
      "Array : \n",
      " [0.         0.02040816 0.04081633 0.06122449 0.08163265 0.10204082\n",
      " 0.12244898 0.14285714 0.16326531 0.18367347 0.20408163 0.2244898\n",
      " 0.24489796 0.26530612 0.28571429 0.30612245 0.32653061 0.34693878\n",
      " 0.36734694 0.3877551  0.40816327 0.42857143 0.44897959 0.46938776\n",
      " 0.48979592 0.51020408 0.53061224 0.55102041 0.57142857 0.59183673\n",
      " 0.6122449  0.63265306 0.65306122 0.67346939 0.69387755 0.71428571\n",
      " 0.73469388 0.75510204 0.7755102  0.79591837 0.81632653 0.83673469\n",
      " 0.85714286 0.87755102 0.89795918 0.91836735 0.93877551 0.95918367\n",
      " 0.97959184 1.        ]\n",
      "26a : \n",
      " 0.5\n",
      "26b : \n",
      " 0.2945075446869757\n",
      "26c : \n",
      " 0.086734693877551\n",
      "26d : \n",
      " 0.5\n",
      "26e : \n",
      " 0.0\n",
      "26e : \n",
      " 1.0\n"
     ]
    }
   ],
   "source": [
    "# 26) 0 ile 1 arasinda 50 elamanli bir array olusturunuz ve;\n",
    "\n",
    "# 26a - orlamasini aliniz.\n",
    "# 26b - standart sapmasini aliniz. \n",
    "# 26c - varyansini aliniz.\n",
    "# 26d - median’ini aliniz.\n",
    "# 26e - en kucuk degeri bulunuz.\n",
    "# 26f - en buyuk degeri bulunuz. \n",
    "\n",
    "a26 = np.linspace(0,1,50)\n",
    "print(\"Array : \\n\", a26)\n",
    "print(\"26a : \\n\", a26.sum()/a26.size)\n",
    "print(\"26b : \\n\", a26.std())\n",
    "print(\"26c : \\n\", a26.var())\n",
    "print(\"26d : \\n\", np.median(a26))\n",
    "print(\"26e : \\n\", np.min(a26))\n",
    "print(\"26e : \\n\", np.max(a26))\n"
   ]
  },
  {
   "cell_type": "markdown",
   "metadata": {},
   "source": [
    "# Master odev  \n",
    "Bir dongu icerisinde random olacak sekilde iki tane 20x20’luk matris uretin ve bu matrislerin farklarini alin. \n",
    "Ve fark matrisinin diagonali, -0.1 ile 0.1 arasinda olana kadar bu islemi tekrarlayin. \n",
    "Istenilen matris bulundugunda program dursun ve toplam kac dongunun kuruldugunu,\n",
    "ne kadar sure icinde buldugunu ve istenilen matrisi print ile birlikte ekrana yazdiriniz... \n",
    "Tavsiye: 20 x 20 luk matrisin bulunmasi saatler surebilir. Bu yuzden algoritmanizin dogrulugunu test etmek icin once 4x4, \n",
    "5x5 gibi kucuk matrislerde deneyebilirsiniz. Ve matris sayisisini arttirarak en son 20x20 u deneyebilirsiniz.\n"
   ]
  },
  {
   "cell_type": "code",
   "execution_count": null,
   "metadata": {},
   "outputs": [],
   "source": [
    "from datetime import datetime\n",
    "import numpy as np\n",
    "\n",
    "ts = datetime.now()     # start time\n",
    "n=0                     # number of iterations\n",
    "matrix_len=20           # matrix length \n",
    "\n",
    "while True:\n",
    "    n+=1                \n",
    "    check = True        # control for while loop\n",
    "    \n",
    "    mtx1 = np.random.rand(matrix_len,matrix_len)\n",
    "    mtx2 = np.random.rand(matrix_len,matrix_len)\n",
    "    diag_m = np.diag(mtx1-mtx2)\n",
    "    \n",
    "    for i in diag_m:\n",
    "        if i<-0.1 or i > 0.1: # check=false if any value is not in the requested range\n",
    "            check = False\n",
    "            break\n",
    "    \n",
    "    if check == True:        # If check = true, after the for loop, the process is complete\n",
    "        print(\"Diagonal Matrix :\\n\",diag_m)\n",
    "        print(50*\"*\")\n",
    "        break\n",
    "\n",
    "te = datetime.now()     # end time\n",
    "process_time = (te-ts)\n",
    "\n",
    "print(\"\\nnumber of iterations      : \", n)\n",
    "print(\"\\ntotal processing time(s)  : \", process_time)\n"
   ]
  }
 ],
 "metadata": {
  "interpreter": {
   "hash": "8fbfba7cb8bdca769b43cbb833a817b4ca395e01b4b8dedb589dfb9294fd4e87"
  },
  "kernelspec": {
   "display_name": "Python 3.10.1 64-bit",
   "language": "python",
   "name": "python3"
  },
  "language_info": {
   "codemirror_mode": {
    "name": "ipython",
    "version": 3
   },
   "file_extension": ".py",
   "mimetype": "text/x-python",
   "name": "python",
   "nbconvert_exporter": "python",
   "pygments_lexer": "ipython3",
   "version": "3.10.1"
  },
  "orig_nbformat": 4
 },
 "nbformat": 4,
 "nbformat_minor": 2
}
